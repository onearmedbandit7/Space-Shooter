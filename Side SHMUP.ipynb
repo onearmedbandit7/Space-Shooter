{
 "cells": [
  {
   "cell_type": "code",
   "execution_count": 1,
   "metadata": {
    "collapsed": false
   },
   "outputs": [],
   "source": [
    "import pygame #import the necessary library\n",
    "import time\n",
    "import random"
   ]
  },
  {
   "cell_type": "code",
   "execution_count": 2,
   "metadata": {
    "collapsed": false
   },
   "outputs": [],
   "source": [
    "pygame.init() #need to do first in any pygame thing (basically importing)\n",
    "display_width = 1400\n",
    "display_height = 800\n",
    "gameDisplay = pygame.display.set_mode((display_width,display_height)) #setting the display resolution for the game wxh\n",
    "background = pygame.Surface(gameDisplay.get_size())"
   ]
  },
  {
   "cell_type": "code",
   "execution_count": 3,
   "metadata": {
    "collapsed": false
   },
   "outputs": [],
   "source": [
    "black = (0,0,0) # based on rgb\n",
    "white = (255,255,255) \n",
    "yellow = (255,255,0)\n",
    "green = (0,255,0)\n",
    "fighter_width = 60"
   ]
  },
  {
   "cell_type": "code",
   "execution_count": 4,
   "metadata": {
    "collapsed": true
   },
   "outputs": [],
   "source": [
    "pygame.display.set_caption('Game') #the caption that will display at the top of the window when we run code\n",
    "clock = pygame.time.Clock() #the clock for the game that will be used universally "
   ]
  },
  {
   "cell_type": "code",
   "execution_count": 5,
   "metadata": {
    "collapsed": false
   },
   "outputs": [],
   "source": [
    "mainimg = pygame.image.load('fighter.png')\n",
    "def mainfighter(x,y):\n",
    "    gameDisplay.blit(mainimg, (x,y))#blitting the fighter image to the display we set above at the certain coordinates chosen"
   ]
  },
  {
   "cell_type": "code",
   "execution_count": 6,
   "metadata": {
    "collapsed": true
   },
   "outputs": [],
   "source": [
    "def things(thingx, thingy, thingw, thingh, color):\n",
    "    pygame.draw.rect(gameDisplay,color,[thingx,thingy,thingw,thingh])"
   ]
  },
  {
   "cell_type": "code",
   "execution_count": 7,
   "metadata": {
    "collapsed": true
   },
   "outputs": [],
   "source": [
    "def time(count):\n",
    "    font = pygame.font.SysFont(None,25)\n",
    "    text = font.render(\"Survived: \"+str(count),True,yellow)\n",
    "    gameDisplay.blit(text,(0,0))"
   ]
  },
  {
   "cell_type": "code",
   "execution_count": 8,
   "metadata": {
    "collapsed": true
   },
   "outputs": [],
   "source": [
    "def text_objects(text,font):\n",
    "    textSurface = font.render(text,True,yellow)\n",
    "    return textSurface, textSurface.get_rect()\n"
   ]
  },
  {
   "cell_type": "code",
   "execution_count": 9,
   "metadata": {
    "collapsed": true
   },
   "outputs": [],
   "source": [
    "def message_display(text):\n",
    "    largeText = pygame.font.Font('freesansbold.ttf',65) #puts text on the screen with that font and size\n",
    "    TextSurf, TextRect = text_objects(text,largeText) #returns the text surface and text rectangle (surrounding the words)\n",
    "    TextRect.center = ((display_width/2), (display_height/2))\n",
    "    gameDisplay.blit(TextSurf, TextRect)\n",
    "    pygame.display.update()\n",
    "    time.sleep(2)\n",
    "    game_loop()"
   ]
  },
  {
   "cell_type": "code",
   "execution_count": 10,
   "metadata": {
    "collapsed": false
   },
   "outputs": [],
   "source": [
    "def crash(time):\n",
    "    message_display('You Crashed' +\" \" + str(time))\n"
   ]
  },
  {
   "cell_type": "code",
   "execution_count": 11,
   "metadata": {
    "collapsed": false
   },
   "outputs": [],
   "source": [
    "def game_loop(): #defining the main processing of events    \n",
    "    x = (display_width * 0.1)\n",
    "    y = (display_height * 0.45)#note y starts at the top and not the bottom\n",
    "    fighter_center = 34\n",
    "    fighter_width = 68\n",
    "    bulletshooting = 0\n",
    "    bullet_speed = 75\n",
    "    bullet_startx = x\n",
    "    bullet_starty = y\n",
    "    x_change = 0\n",
    "    y_change = 0\n",
    "    thing1_startx = 100\n",
    "    thing1_starty = 0\n",
    "    thing1_speed = 50\n",
    "    thing1_width = 20\n",
    "    thing1_height = 20\n",
    "    thing2_startx = 700\n",
    "    thing2_starty = 0\n",
    "    thing2_speed = 50\n",
    "    thing2_width = 20\n",
    "    thing2_height = 20\n",
    "    box_startx = 200\n",
    "    box_starty = 0\n",
    "    box_speed = 5\n",
    "    box_width = 50\n",
    "    box_height = 50\n",
    "    cop_height = 73\n",
    "    cop_width = 55\n",
    "    cop_speed = 10\n",
    "    \n",
    "\n",
    "    y2 = -1000\n",
    "    x2 = 400\n",
    "    \n",
    "\n",
    "    \n",
    "    #dodged = 0\n",
    " \n",
    "    #pygame.mixer.music.load('carbeat.mp3')\n",
    "    #pygame.mixer.music.play(-1,45.0)\n",
    "    gameExit = False #defining so that when player starts things will happen (see while below)\n",
    "    while not gameExit:\n",
    "        for event in pygame.event.get(): #event array is generated by pygame\n",
    "            if event.type == pygame.QUIT: #for example exiting the game or doing something like crashing (== is comparison operator)\n",
    "                pygame.display.quit()\n",
    "                pygame.quit()\n",
    "                quit()\n",
    "\n",
    "            if event.type == pygame.KEYDOWN: #used for creating events for keys being down\n",
    "                if event.key == pygame.K_LEFT:\n",
    "                    x_change = -5\n",
    "                elif event.key == pygame.K_RIGHT:\n",
    "                    x_change = 5\n",
    "\n",
    "            if event.type == pygame.KEYUP: #used for creating events for keys being up\n",
    "                if event.key == pygame.K_LEFT or event.key == pygame.K_RIGHT:\n",
    "                    x_change = 0\n",
    "                    \n",
    "            if event.type == pygame.KEYDOWN: #used for creating events for keys being down\n",
    "                if event.key == pygame.K_UP:\n",
    "                    y_change = -5\n",
    "                elif event.key == pygame.K_DOWN:\n",
    "                    y_change = 5\n",
    "            \n",
    "            if event.type == pygame.KEYUP: #used for creating events for keys being up\n",
    "                if event.key == pygame.K_UP or event.key == pygame.K_DOWN:\n",
    "                    y_change = 0\n",
    "                    \n",
    "            if event.type == pygame.KEYDOWN:\n",
    "                if event.key == pygame.K_a:\n",
    "                    bulletshooting = 1\n",
    "                    \n",
    "       \n",
    "        x += x_change\n",
    "        y += y_change\n",
    "        \n",
    "        t = pygame.time.get_ticks()/1000\n",
    "\n",
    "        gameDisplay.fill(black) #sets a background - note this must be in code first otherwise car will be behind it\n",
    "        #time(t)\n",
    "        #things(thingx, thingy, thingw, thingh, color)\n",
    "        #things(thing1_startx, thing1_starty,thing1_width,thing1_height,yellow)\n",
    "        #thing1_starty += thing1_speed\n",
    "        #things(thing2_startx, thing2_starty,thing2_width,thing2_height,yellow)\n",
    "        #thing2_starty += thing2_speed\n",
    "        #things(box_startx, box_starty,box_width,box_height, green)\n",
    "        #box_starty += box_speed\n",
    "        #y2 += cop_speed\n",
    "        \n",
    "        \n",
    "        mainfighter(x,y) #puts car on screen\n",
    "        \n",
    "        if bulletshooting is 1:\n",
    "            things(bullet_startx+fighter_width, bullet_starty+fighter_center, 5, 5, yellow)\n",
    "            bullet_startx += bullet_speed\n",
    "            \n",
    "\n",
    "        \n",
    "        \n",
    "        #cop(x2,y2)\n",
    "        #if x > 700 - car_width or x < 100: #determining whether player is on display boundary\n",
    "         #   crash(t)\n",
    "        #if thing1_starty > display_height:\n",
    "         #   thing1_starty = 0 - thing1_height\n",
    "            \n",
    "        #if thing2_starty > display_height:\n",
    "         #   thing2_starty = 0 - thing2_height\n",
    "            \n",
    "        #if box_starty > display_height:\n",
    "        #    box_starty = 0 - random.randrange(box_height,200)\n",
    "        #   box_startx = random.randrange(100,700)\n",
    "        #  box_width = random.randrange(30,100)\n",
    "        #    box_height = random.randrange(30,100)\n",
    "        # if y2 > display_height:\n",
    "        #    y2 = 0 - random.randrange(cop_height,200)\n",
    "        #    x2 = random.randrange(100,700)\n",
    "            \n",
    "        #crash conditions\n",
    "\n",
    "                    \n",
    "        #if y < box_starty + box_height:\n",
    "                #if x > box_startx and x < box_startx + box_width-20 or x+car_width > box_startx and x + car_width < box_startx + box_width-20:\n",
    "                  #  crash(t)\n",
    "                    \n",
    "        #if y < y2 + cop_height:\n",
    "                #if x > x2 and x < x2 + cop_width or x+car_width > x2 and x + car_width < x2 + cop_width:\n",
    "                 #   crash(t)\n",
    "        #regenerating obstacle after going off of screen        \n",
    "\n",
    "        pygame.display.update() #updating what is going on so\n",
    "        clock.tick(60) #fps"
   ]
  },
  {
   "cell_type": "code",
   "execution_count": null,
   "metadata": {
    "collapsed": false
   },
   "outputs": [
    {
     "ename": "error",
     "evalue": "display Surface quit",
     "output_type": "error",
     "traceback": [
      "\u001b[1;31m---------------------------------------------------------------------------\u001b[0m",
      "\u001b[1;31merror\u001b[0m                                     Traceback (most recent call last)",
      "\u001b[1;32m<ipython-input-12-7f68d6583b34>\u001b[0m in \u001b[0;36m<module>\u001b[1;34m()\u001b[0m\n\u001b[1;32m----> 1\u001b[1;33m \u001b[0mgame_loop\u001b[0m\u001b[1;33m(\u001b[0m\u001b[1;33m)\u001b[0m \u001b[1;31m#runs the loop we defined above\u001b[0m\u001b[1;33m\u001b[0m\u001b[0m\n\u001b[0m\u001b[0;32m      2\u001b[0m \u001b[0mpygame\u001b[0m\u001b[1;33m.\u001b[0m\u001b[0mquit\u001b[0m\u001b[1;33m(\u001b[0m\u001b[1;33m)\u001b[0m\u001b[1;33m\u001b[0m\u001b[0m\n\u001b[0;32m      3\u001b[0m \u001b[0mquit\u001b[0m\u001b[1;33m(\u001b[0m\u001b[1;33m)\u001b[0m\u001b[1;33m\u001b[0m\u001b[0m\n",
      "\u001b[1;32m<ipython-input-11-a87a94fcf4d0>\u001b[0m in \u001b[0;36mgame_loop\u001b[1;34m()\u001b[0m\n\u001b[0;32m     77\u001b[0m         \u001b[0mt\u001b[0m \u001b[1;33m=\u001b[0m \u001b[0mpygame\u001b[0m\u001b[1;33m.\u001b[0m\u001b[0mtime\u001b[0m\u001b[1;33m.\u001b[0m\u001b[0mget_ticks\u001b[0m\u001b[1;33m(\u001b[0m\u001b[1;33m)\u001b[0m\u001b[1;33m/\u001b[0m\u001b[1;36m1000\u001b[0m\u001b[1;33m\u001b[0m\u001b[0m\n\u001b[0;32m     78\u001b[0m \u001b[1;33m\u001b[0m\u001b[0m\n\u001b[1;32m---> 79\u001b[1;33m         \u001b[0mgameDisplay\u001b[0m\u001b[1;33m.\u001b[0m\u001b[0mfill\u001b[0m\u001b[1;33m(\u001b[0m\u001b[0mblack\u001b[0m\u001b[1;33m)\u001b[0m \u001b[1;31m#sets a background - note this must be in code first otherwise car will be behind it\u001b[0m\u001b[1;33m\u001b[0m\u001b[0m\n\u001b[0m\u001b[0;32m     80\u001b[0m         \u001b[1;31m#time(t)\u001b[0m\u001b[1;33m\u001b[0m\u001b[1;33m\u001b[0m\u001b[0m\n\u001b[0;32m     81\u001b[0m         \u001b[1;31m#things(thingx, thingy, thingw, thingh, color)\u001b[0m\u001b[1;33m\u001b[0m\u001b[1;33m\u001b[0m\u001b[0m\n",
      "\u001b[1;31merror\u001b[0m: display Surface quit"
     ]
    }
   ],
   "source": [
    "game_loop() #runs the loop we defined above\n",
    "pygame.quit()\n",
    "quit()"
   ]
  }
 ],
 "metadata": {
  "anaconda-cloud": {},
  "kernelspec": {
   "display_name": "Python 3",
   "language": "python",
   "name": "python3"
  },
  "language_info": {
   "codemirror_mode": {
    "name": "ipython",
    "version": 3
   },
   "file_extension": ".py",
   "mimetype": "text/x-python",
   "name": "python",
   "nbconvert_exporter": "python",
   "pygments_lexer": "ipython3",
   "version": "3.5.1"
  }
 },
 "nbformat": 4,
 "nbformat_minor": 1
}
