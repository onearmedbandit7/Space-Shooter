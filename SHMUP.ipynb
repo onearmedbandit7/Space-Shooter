{
 "cells": [
  {
   "cell_type": "code",
   "execution_count": null,
   "metadata": {
    "collapsed": false
   },
   "outputs": [],
   "source": [
    "import pygame #import the necessary library\n",
    "import time\n",
    "import random"
   ]
  },
  {
   "cell_type": "code",
   "execution_count": null,
   "metadata": {
    "collapsed": false
   },
   "outputs": [],
   "source": [
    "pygame.init() #need to do first in any pygame thing (basically importing)\n",
    "display_width = 800\n",
    "display_height = 600\n",
    "gameDisplay = pygame.display.set_mode((display_width,display_height)) #setting the display resolution for the game wxh\n",
    "background = pygame.Surface(gameDisplay.get_size())"
   ]
  },
  {
   "cell_type": "code",
   "execution_count": null,
   "metadata": {
    "collapsed": false
   },
   "outputs": [],
   "source": [
    "black = (0,0,0) # based on rgb\n",
    "white = (255,255,255) \n",
    "yellow = (255,255,0)\n",
    "green = (0,255,0)\n",
    "car_width = 60"
   ]
  },
  {
   "cell_type": "code",
   "execution_count": null,
   "metadata": {
    "collapsed": true
   },
   "outputs": [],
   "source": [
    "pygame.display.set_caption('Game') #the caption that will display at the top of the window when we run code\n",
    "clock = pygame.time.Clock() #the clock for the game that will be used universally "
   ]
  },
  {
   "cell_type": "code",
   "execution_count": null,
   "metadata": {
    "collapsed": false
   },
   "outputs": [],
   "source": [
    "carImg = pygame.image.load('Black_vipers.png')\n",
    "copImg = pygame.image.load('Polices.png')\n",
    "manImg = pygame.image.load('mans.png')\n",
    "def car(x,y):\n",
    "    gameDisplay.blit(carImg, (x,y))#blitting the car image to the display we set above at the certain coordinates chosen\n",
    "def cop(x,y):\n",
    "    gameDisplay.blit(copImg,(x,y))\n",
    "def man():\n",
    "    y3 = 0\n",
    "    if t > 60 > 61:\n",
    "        gameDisplay.blit(manImg,(x,y))"
   ]
  },
  {
   "cell_type": "code",
   "execution_count": null,
   "metadata": {
    "collapsed": true
   },
   "outputs": [],
   "source": [
    "def things(thingx, thingy, thingw, thingh, color):\n",
    "    pygame.draw.rect(gameDisplay,color,[thingx,thingy,thingw,thingh])"
   ]
  },
  {
   "cell_type": "code",
   "execution_count": null,
   "metadata": {
    "collapsed": true
   },
   "outputs": [],
   "source": [
    "def things_dodged(count):\n",
    "    font = pygame.font.SysFont(None,25)\n",
    "    text = font.render(\"Dodged: \"+str(count),True,black)\n",
    "    gameDisplay.blit(text,(0,0))"
   ]
  },
  {
   "cell_type": "code",
   "execution_count": null,
   "metadata": {
    "collapsed": true
   },
   "outputs": [],
   "source": [
    "def time(count):\n",
    "    font = pygame.font.SysFont(None,25)\n",
    "    text = font.render(\"Survived: \"+str(count),True,yellow)\n",
    "    gameDisplay.blit(text,(0,0))"
   ]
  },
  {
   "cell_type": "code",
   "execution_count": null,
   "metadata": {
    "collapsed": true
   },
   "outputs": [],
   "source": [
    "def text_objects(text,font):\n",
    "    textSurface = font.render(text,True,yellow)\n",
    "    return textSurface, textSurface.get_rect()\n"
   ]
  },
  {
   "cell_type": "code",
   "execution_count": null,
   "metadata": {
    "collapsed": true
   },
   "outputs": [],
   "source": [
    "def message_display(text):\n",
    "    largeText = pygame.font.Font('freesansbold.ttf',65) #puts text on the screen with that font and size\n",
    "    TextSurf, TextRect = text_objects(text,largeText) #returns the text surface and text rectangle (surrounding the words)\n",
    "    TextRect.center = ((display_width/2), (display_height/2))\n",
    "    gameDisplay.blit(TextSurf, TextRect)\n",
    "    pygame.display.update()\n",
    "    time.sleep(2)\n",
    "    game_loop()"
   ]
  },
  {
   "cell_type": "code",
   "execution_count": null,
   "metadata": {
    "collapsed": false
   },
   "outputs": [],
   "source": [
    "def crash(time):\n",
    "    message_display('You Crashed' +\" \" + str(time))\n"
   ]
  },
  {
   "cell_type": "code",
   "execution_count": null,
   "metadata": {
    "collapsed": false
   },
   "outputs": [],
   "source": [
    "def game_loop(): #defining the main processing of events    \n",
    "    x = (display_width * 0.45)\n",
    "    y = (display_height * 0.8)#note y starts at the top and not the bottom\n",
    "\n",
    "    x_change = 0\n",
    "    thing1_startx = 100\n",
    "    thing1_starty = 0\n",
    "    thing1_speed = 50\n",
    "    thing1_width = 20\n",
    "    thing1_height = 20\n",
    "    thing2_startx = 700\n",
    "    thing2_starty = 0\n",
    "    thing2_speed = 50\n",
    "    thing2_width = 20\n",
    "    thing2_height = 20\n",
    "    box_startx = 200\n",
    "    box_starty = 0\n",
    "    box_speed = 5\n",
    "    box_width = 50\n",
    "    box_height = 50\n",
    "    cop_height = 73\n",
    "    cop_width = 55\n",
    "    cop_speed = 10\n",
    "\n",
    "    y2 = -1000\n",
    "    x2 = 400\n",
    "    \n",
    "    \n",
    "    #dodged = 0\n",
    " \n",
    "    pygame.mixer.music.load('carbeat.mp3')\n",
    "    pygame.mixer.music.play(-1,45.0)\n",
    "    gameExit = False #defining so that when player starts things will happen (see while below)\n",
    "    while not gameExit:\n",
    "        for event in pygame.event.get(): #event array is generated by pygame\n",
    "            if event.type == pygame.QUIT: #for example exiting the game or doing something like crashing (== is comparison operator)\n",
    "                pygame.display.quit()\n",
    "                pygame.quit()\n",
    "                quit()\n",
    "\n",
    "            if event.type == pygame.KEYDOWN: #used for creating events for keys being down\n",
    "                if event.key == pygame.K_LEFT:\n",
    "                    x_change = -10\n",
    "                elif event.key == pygame.K_RIGHT:\n",
    "                    x_change = 10\n",
    "\n",
    "            if event.type == pygame.KEYUP: #used for creating events for keys being up\n",
    "                if event.key == pygame.K_LEFT or event.key == pygame.K_RIGHT:\n",
    "                    x_change = 0\n",
    "                    \n",
    "                    \n",
    "       \n",
    "        x += x_change\n",
    "        \n",
    "        t = pygame.time.get_ticks()/1000\n",
    "        \n",
    "        gameDisplay.fill(black) #sets a background note this must be in code first otherwise car will be behind it\n",
    "        time(t)\n",
    "        #things(thingx, thingy, thingw, thingh, color)\n",
    "        things(thing1_startx, thing1_starty,thing1_width,thing1_height,yellow)\n",
    "        thing1_starty += thing1_speed\n",
    "        things(thing2_startx, thing2_starty,thing2_width,thing2_height,yellow)\n",
    "        thing2_starty += thing2_speed\n",
    "        things(box_startx, box_starty,box_width,box_height, green)\n",
    "        box_starty += box_speed\n",
    "        y2 += cop_speed\n",
    "        \n",
    "        \n",
    "        car(x,y) #puts car on screen\n",
    "        \n",
    "        cop(x2,y2)\n",
    "        if x > 700 - car_width or x < 100: #determining whether player is on display boundary\n",
    "            crash(t)\n",
    "        if thing1_starty > display_height:\n",
    "            thing1_starty = 0 - thing1_height\n",
    "            \n",
    "        if thing2_starty > display_height:\n",
    "            thing2_starty = 0 - thing2_height\n",
    "            \n",
    "        if box_starty > display_height:\n",
    "            box_starty = 0 - random.randrange(box_height,200)\n",
    "            box_startx = random.randrange(100,700)\n",
    "            box_width = random.randrange(30,100)\n",
    "            box_height = random.randrange(30,100)\n",
    "        if y2 > display_height:\n",
    "            y2 = 0 - random.randrange(cop_height,200)\n",
    "            x2 = random.randrange(100,700)\n",
    "            \n",
    "        #crash conditions\n",
    "\n",
    "                    \n",
    "        if y < box_starty + box_height:\n",
    "                if x > box_startx and x < box_startx + box_width-20 or x+car_width > box_startx and x + car_width < box_startx + box_width-20:\n",
    "                    crash(t)\n",
    "                    \n",
    "        if y < y2 + cop_height:\n",
    "                if x > x2 and x < x2 + cop_width or x+car_width > x2 and x + car_width < x2 + cop_width:\n",
    "                    crash(t)\n",
    "        #regenerating obstacle after going off of screen        \n",
    "\n",
    "        pygame.display.update() #updating what is going on so\n",
    "        clock.tick(60) #fps"
   ]
  },
  {
   "cell_type": "code",
   "execution_count": null,
   "metadata": {
    "collapsed": false
   },
   "outputs": [],
   "source": [
    "game_loop() #runs the loop we defined above\n",
    "pygame.quit()\n",
    "quit()"
   ]
  }
 ],
 "metadata": {
  "anaconda-cloud": {},
  "kernelspec": {
   "display_name": "Python 3",
   "language": "python",
   "name": "python3"
  },
  "language_info": {
   "codemirror_mode": {
    "name": "ipython",
    "version": 3
   },
   "file_extension": ".py",
   "mimetype": "text/x-python",
   "name": "python",
   "nbconvert_exporter": "python",
   "pygments_lexer": "ipython3",
   "version": "3.5.1"
  }
 },
 "nbformat": 4,
 "nbformat_minor": 1
}
